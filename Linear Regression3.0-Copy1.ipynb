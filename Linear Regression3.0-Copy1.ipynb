{
 "cells": [
  {
   "cell_type": "markdown",
   "metadata": {
    "id": "HLXLS8e4ViWw"
   },
   "source": [
    "#  <center><u>LINEAR REGRESSION<u><center>"
   ]
  },
  {
   "cell_type": "markdown",
   "metadata": {
    "id": "kJrTOWymViW0"
   },
   "source": [
    "<p style='text-align: right;'> Total points =51</p>\n"
   ]
  },
  {
   "cell_type": "markdown",
   "metadata": {
    "id": "XDNdoeq1ViW1"
   },
   "source": [
    "###  Linear Regression\n",
    "\n",
    "\n",
    "Linear Regression is a statistical technique which is used to find the linear relationship between dependent and one or more independent variables. This technique is applicable for Supervised learning Regression problems where we try to predict a continuous variable.\n",
    "\n",
    "\n",
    "Linear Regression can be further classified into two types – Simple and Multiple Linear Regression. It is the simplest form of Linear Regression where we fit a straight line to the data.\n",
    "\n"
   ]
  },
  {
   "cell_type": "markdown",
   "metadata": {
    "id": "-V4qPGgReRdW"
   },
   "source": [
    "Read this blog in incognito mode: https://towardsdatascience.com/understanding-the-fundamentals-of-linear-regression-7e64afd614e1#:~:text=What%20is%20Linear%20Regression%3F,represented%20with%20a%20straight%20line."
   ]
  },
  {
   "cell_type": "markdown",
   "metadata": {
    "id": "dybR0h0BViXF"
   },
   "source": [
    "## Simple Linear Regression - Model Assumptions\n",
    "\n",
    "The Linear Regression Model is based on several assumptions which are listed below:-\n",
    "\n",
    "i.\tLinear relationship\n",
    "ii.\tMultivariate normality\n",
    "iii.\tNo or little multicollinearity\n",
    "iv.\tNo auto-correlation\n",
    "v.\tHomoscedasticity\n",
    "\n",
    "\n",
    "### i.\tLinear relationship\n",
    "\n",
    "\n",
    "The relationship between response and feature variables should be linear. This linear relationship assumption can be tested by plotting a scatter-plot between response and feature variables.\n",
    "\n",
    "\n",
    "### ii.\tMultivariate normality\n",
    "\n",
    "The linear regression model requires all variables to be multivariate normal. A multivariate normal distribution means a vector in multiple normally distributed variables, where any linear combination of the variables is also normally distributed.\n",
    "\n",
    "\n",
    "### iii.\tNo or little multicollinearity\n",
    "\n",
    "It is assumed that there is little or no multicollinearity in the data. Multicollinearity occurs when the features (or independent variables) are highly correlated.\n",
    "\n",
    "\n",
    "### iv.\tNo auto-correlation\n",
    "\n",
    "Also, it is assumed that there is little or no auto-correlation in the data. Autocorrelation occurs when the residual errors are not independent from each other.\n",
    "\n",
    "\n",
    "### v.\tHomoscedasticity\n",
    "\n",
    "Homoscedasticity describes a situation in which the error term (that is, the noise in the model) is the same across all values of the independent variables. It means the residuals are same across the regression line. It can be checked by looking at scatter plot.\n"
   ]
  },
  {
   "cell_type": "markdown",
   "metadata": {
    "id": "Vr883u1LiSPl"
   },
   "source": [
    "# **`WATCH ALL VIDEOS IN THE PORTAL`**"
   ]
  },
  {
   "cell_type": "markdown",
   "metadata": {
    "id": "CwXWoo7ZBw_o"
   },
   "source": [
    "## **`Video 1 : Assumptions of Linear Regression`**"
   ]
  },
  {
   "cell_type": "markdown",
   "metadata": {
    "id": "dvmwzPeRViW2"
   },
   "source": [
    "###  Simple Linear Regression (SLR)\n",
    "\n",
    "Simple Linear Regression (or SLR) is the simplest model in machine learning. It models the linear relationship between the independent and dependent variables. \n",
    "\n",
    "This assignment is based on the TV and Sales data .\n",
    "There is one independent or input variable which represents the TV data and is denoted by X. Similarly, there is one dependent or output variable which represents the Sales and is denoted by y. We want to build a linear relationship between these variables. This linear relationship can be modelled by mathematical equation of the form:-\n",
    "\t\t\t\t \n",
    "                 \n",
    "                 Y = β0   + β1*X    -------------   (1)\n",
    "                 \n",
    "\n",
    "In this equation, X and Y are called independent and dependent variables respectively,\n",
    "\n",
    "β1 is the coefficient for independent variable and\n",
    "\n",
    "β0 is the constant term.\n",
    "\n",
    "β0 and β1 are called parameters of the model.\n",
    " \n",
    "\n",
    "\n",
    "For simplicity, we can compare the above equation with the basic line equation of the form:-\n",
    " \n",
    "                   y = ax + b       ----------------- (2)\n",
    "\n",
    "We can see that \n",
    "\n",
    "slope of the line is given by, a =  β1,  and\n",
    "\n",
    "intercept of the line by b =  β0. \n",
    "\n",
    "\n",
    "In this Simple Linear Regression model, we want to fit a line which estimates the linear relationship between X and Y. So, the question of fitting reduces to estimating the parameters of the model β0 and β1. \n",
    "\n",
    " \n",
    "\n",
    "## Ordinary Least Square Method\n",
    "\n",
    "The TV and Sales data are given by X and y respectively. We can draw a scatter plot between X and y which shows the relationship between them.\n",
    "\n",
    " \n",
    "\n",
    "Now, our task is to find a line which best fits this scatter plot. This line will help us to predict the value of any Target variable for any given Feature variable. This line is called **Regression line**. \n",
    "\n",
    "\n",
    "We can define an error function for any line. Then, the regression line is the one which minimizes the error function. Such an error function is also called a **Cost function**. \n",
    "\n",
    "By below chart you might understand more clearly\n",
    "\n",
    "![image.png](attachment:image.png)\n",
    "\n"
   ]
  },
  {
   "cell_type": "markdown",
   "metadata": {
    "id": "_7JYsDO1FjE7"
   },
   "source": [
    "##Problem Statement\n",
    "Build a model which predicts sales based on the money spent on different platforms for marketing."
   ]
  },
  {
   "cell_type": "markdown",
   "metadata": {
    "id": "cQoc_dPEViW2"
   },
   "source": [
    "Understanding the Data\n",
    "Let's start with the following steps:\n",
    "\n",
    "1. Importing data using the pandas library\n",
    "2. Understanding the structure of the data"
   ]
  },
  {
   "cell_type": "markdown",
   "metadata": {
    "id": "fJUAXoiGViW3"
   },
   "source": [
    "<p style='text-align: right;'> 2*2=4 points</p>\n"
   ]
  },
  {
   "cell_type": "code",
   "execution_count": 1,
   "metadata": {
    "id": "-itR6_OEViW4"
   },
   "outputs": [],
   "source": [
    "# Import necessary libraries numpy as np, pandas as pd, pyplot as plt\n",
    "import pandas as pd\n",
    "import numpy as np \n",
    "import seaborn as sns\n",
    "import matplotlib.pyplot as plt\n",
    "\n",
    "\n",
    "\n"
   ]
  },
  {
   "cell_type": "code",
   "execution_count": 2,
   "metadata": {
    "id": "e49AA1ThViW5"
   },
   "outputs": [],
   "source": [
    "%matplotlib inline\n",
    "\n",
    "# The above command sets the backend of matplotlib to the 'inline' backend. \n",
    "# It means the output of plotting commands is displayed inline."
   ]
  },
  {
   "cell_type": "markdown",
   "metadata": {
    "id": "eyA8EOPUViW6"
   },
   "source": [
    "<p style='text-align: right;'> 2*6 = 12 points</p>\n"
   ]
  },
  {
   "cell_type": "markdown",
   "metadata": {
    "id": "k-GaId6_E_Zq"
   },
   "source": [
    "## About the dataset\n",
    "\n",
    "Let's import data from the following url:-\n",
    "\n",
    "https://www.kaggle.com/ashydv/advertising-dataset\n",
    "\n",
    "\n",
    "\n",
    "\n",
    "\n",
    "\n"
   ]
  },
  {
   "cell_type": "markdown",
   "metadata": {
    "id": "HQ3O3orK9MPH"
   },
   "source": [
    "Data Dict:<br>\n",
    "There are 3 Input Variables and 1 Output Variable (Sales).<br>\n",
    "The data type of all the input variables is float64. The data type of out variable (Sales) is float64.<br>"
   ]
  },
  {
   "cell_type": "code",
   "execution_count": 3,
   "metadata": {
    "id": "5-Q9gejmViW6"
   },
   "outputs": [
    {
     "data": {
      "text/html": [
       "<div>\n",
       "<style scoped>\n",
       "    .dataframe tbody tr th:only-of-type {\n",
       "        vertical-align: middle;\n",
       "    }\n",
       "\n",
       "    .dataframe tbody tr th {\n",
       "        vertical-align: top;\n",
       "    }\n",
       "\n",
       "    .dataframe thead th {\n",
       "        text-align: right;\n",
       "    }\n",
       "</style>\n",
       "<table border=\"1\" class=\"dataframe\">\n",
       "  <thead>\n",
       "    <tr style=\"text-align: right;\">\n",
       "      <th></th>\n",
       "      <th>Unnamed: 0</th>\n",
       "      <th>TV</th>\n",
       "      <th>Radio</th>\n",
       "      <th>Newspaper</th>\n",
       "      <th>Sales</th>\n",
       "    </tr>\n",
       "  </thead>\n",
       "  <tbody>\n",
       "    <tr>\n",
       "      <th>0</th>\n",
       "      <td>1</td>\n",
       "      <td>230.1</td>\n",
       "      <td>37.8</td>\n",
       "      <td>69.2</td>\n",
       "      <td>22.1</td>\n",
       "    </tr>\n",
       "    <tr>\n",
       "      <th>1</th>\n",
       "      <td>2</td>\n",
       "      <td>44.5</td>\n",
       "      <td>39.3</td>\n",
       "      <td>45.1</td>\n",
       "      <td>10.4</td>\n",
       "    </tr>\n",
       "    <tr>\n",
       "      <th>2</th>\n",
       "      <td>3</td>\n",
       "      <td>17.2</td>\n",
       "      <td>45.9</td>\n",
       "      <td>69.3</td>\n",
       "      <td>9.3</td>\n",
       "    </tr>\n",
       "    <tr>\n",
       "      <th>3</th>\n",
       "      <td>4</td>\n",
       "      <td>151.5</td>\n",
       "      <td>41.3</td>\n",
       "      <td>58.5</td>\n",
       "      <td>18.5</td>\n",
       "    </tr>\n",
       "    <tr>\n",
       "      <th>4</th>\n",
       "      <td>5</td>\n",
       "      <td>180.8</td>\n",
       "      <td>10.8</td>\n",
       "      <td>58.4</td>\n",
       "      <td>12.9</td>\n",
       "    </tr>\n",
       "  </tbody>\n",
       "</table>\n",
       "</div>"
      ],
      "text/plain": [
       "   Unnamed: 0     TV  Radio  Newspaper  Sales\n",
       "0           1  230.1   37.8       69.2   22.1\n",
       "1           2   44.5   39.3       45.1   10.4\n",
       "2           3   17.2   45.9       69.3    9.3\n",
       "3           4  151.5   41.3       58.5   18.5\n",
       "4           5  180.8   10.8       58.4   12.9"
      ]
     },
     "execution_count": 3,
     "metadata": {},
     "output_type": "execute_result"
    }
   ],
   "source": [
    "# Import the data\n",
    "\n",
    "df = pd.read_csv(\"Advertising.csv\")\n",
    "df.head()"
   ]
  },
  {
   "cell_type": "code",
   "execution_count": 5,
   "metadata": {
    "id": "GQ7Kure8ViW6"
   },
   "outputs": [],
   "source": [
    "#drop radio and newspaper column\n",
    "df =df.drop('Newspaper',axis=1)"
   ]
  },
  {
   "cell_type": "markdown",
   "metadata": {
    "id": "DA8yCFZJViW7"
   },
   "source": [
    "### pandas shape attribute\n",
    "\n",
    "The shape attribute of the pandas dataframe gives the dimensions of the dataframe."
   ]
  },
  {
   "cell_type": "code",
   "execution_count": 6,
   "metadata": {
    "id": "7S2D5Y3iViW7",
    "outputId": "9aff2ada-24bb-4474-88ba-1e6cfa0e17b4"
   },
   "outputs": [
    {
     "data": {
      "text/plain": [
       "(200, 4)"
      ]
     },
     "execution_count": 6,
     "metadata": {},
     "output_type": "execute_result"
    }
   ],
   "source": [
    "# View the dimensions of df\n",
    "df.shape\n",
    "\n"
   ]
  },
  {
   "cell_type": "markdown",
   "metadata": {
    "id": "5ufwXbtFViW8"
   },
   "source": [
    "### pandas head() method\n"
   ]
  },
  {
   "cell_type": "code",
   "execution_count": 7,
   "metadata": {
    "id": "HVLHFeLaViW8",
    "outputId": "c4e4c09c-11aa-4b2e-c6f9-4da9408839d9"
   },
   "outputs": [
    {
     "data": {
      "text/html": [
       "<div>\n",
       "<style scoped>\n",
       "    .dataframe tbody tr th:only-of-type {\n",
       "        vertical-align: middle;\n",
       "    }\n",
       "\n",
       "    .dataframe tbody tr th {\n",
       "        vertical-align: top;\n",
       "    }\n",
       "\n",
       "    .dataframe thead th {\n",
       "        text-align: right;\n",
       "    }\n",
       "</style>\n",
       "<table border=\"1\" class=\"dataframe\">\n",
       "  <thead>\n",
       "    <tr style=\"text-align: right;\">\n",
       "      <th></th>\n",
       "      <th>Unnamed: 0</th>\n",
       "      <th>TV</th>\n",
       "      <th>Radio</th>\n",
       "      <th>Sales</th>\n",
       "    </tr>\n",
       "  </thead>\n",
       "  <tbody>\n",
       "    <tr>\n",
       "      <th>0</th>\n",
       "      <td>1</td>\n",
       "      <td>230.1</td>\n",
       "      <td>37.8</td>\n",
       "      <td>22.1</td>\n",
       "    </tr>\n",
       "    <tr>\n",
       "      <th>1</th>\n",
       "      <td>2</td>\n",
       "      <td>44.5</td>\n",
       "      <td>39.3</td>\n",
       "      <td>10.4</td>\n",
       "    </tr>\n",
       "    <tr>\n",
       "      <th>2</th>\n",
       "      <td>3</td>\n",
       "      <td>17.2</td>\n",
       "      <td>45.9</td>\n",
       "      <td>9.3</td>\n",
       "    </tr>\n",
       "    <tr>\n",
       "      <th>3</th>\n",
       "      <td>4</td>\n",
       "      <td>151.5</td>\n",
       "      <td>41.3</td>\n",
       "      <td>18.5</td>\n",
       "    </tr>\n",
       "    <tr>\n",
       "      <th>4</th>\n",
       "      <td>5</td>\n",
       "      <td>180.8</td>\n",
       "      <td>10.8</td>\n",
       "      <td>12.9</td>\n",
       "    </tr>\n",
       "  </tbody>\n",
       "</table>\n",
       "</div>"
      ],
      "text/plain": [
       "   Unnamed: 0     TV  Radio  Sales\n",
       "0           1  230.1   37.8   22.1\n",
       "1           2   44.5   39.3   10.4\n",
       "2           3   17.2   45.9    9.3\n",
       "3           4  151.5   41.3   18.5\n",
       "4           5  180.8   10.8   12.9"
      ]
     },
     "execution_count": 7,
     "metadata": {},
     "output_type": "execute_result"
    }
   ],
   "source": [
    "# View the top 5 rows of df\n",
    "df.head(5)\n",
    "\n"
   ]
  },
  {
   "cell_type": "markdown",
   "metadata": {
    "id": "MFK_x_1RViW8"
   },
   "source": [
    "### pandas info() method"
   ]
  },
  {
   "cell_type": "code",
   "execution_count": 8,
   "metadata": {
    "id": "F2x1WiaNViW8",
    "outputId": "b7cd5292-ef8f-4068-89e3-82a3376e2437"
   },
   "outputs": [
    {
     "name": "stdout",
     "output_type": "stream",
     "text": [
      "<class 'pandas.core.frame.DataFrame'>\n",
      "RangeIndex: 200 entries, 0 to 199\n",
      "Data columns (total 4 columns):\n",
      " #   Column      Non-Null Count  Dtype  \n",
      "---  ------      --------------  -----  \n",
      " 0   Unnamed: 0  200 non-null    int64  \n",
      " 1   TV          200 non-null    float64\n",
      " 2   Radio       200 non-null    float64\n",
      " 3   Sales       200 non-null    float64\n",
      "dtypes: float64(3), int64(1)\n",
      "memory usage: 6.4 KB\n"
     ]
    }
   ],
   "source": [
    "# View dataframe summary\n",
    "df.info()\n",
    "\n",
    "\n"
   ]
  },
  {
   "cell_type": "markdown",
   "metadata": {
    "id": "L28QIspKViW8"
   },
   "source": [
    "### pandas describe() method"
   ]
  },
  {
   "cell_type": "code",
   "execution_count": 9,
   "metadata": {
    "id": "BpTwQa5oViW9",
    "outputId": "146281c4-0a3f-4e2e-aff7-2f939d1270b1"
   },
   "outputs": [
    {
     "data": {
      "text/html": [
       "<div>\n",
       "<style scoped>\n",
       "    .dataframe tbody tr th:only-of-type {\n",
       "        vertical-align: middle;\n",
       "    }\n",
       "\n",
       "    .dataframe tbody tr th {\n",
       "        vertical-align: top;\n",
       "    }\n",
       "\n",
       "    .dataframe thead th {\n",
       "        text-align: right;\n",
       "    }\n",
       "</style>\n",
       "<table border=\"1\" class=\"dataframe\">\n",
       "  <thead>\n",
       "    <tr style=\"text-align: right;\">\n",
       "      <th></th>\n",
       "      <th>Unnamed: 0</th>\n",
       "      <th>TV</th>\n",
       "      <th>Radio</th>\n",
       "      <th>Sales</th>\n",
       "    </tr>\n",
       "  </thead>\n",
       "  <tbody>\n",
       "    <tr>\n",
       "      <th>count</th>\n",
       "      <td>200.000000</td>\n",
       "      <td>200.000000</td>\n",
       "      <td>200.000000</td>\n",
       "      <td>200.000000</td>\n",
       "    </tr>\n",
       "    <tr>\n",
       "      <th>mean</th>\n",
       "      <td>100.500000</td>\n",
       "      <td>147.042500</td>\n",
       "      <td>23.264000</td>\n",
       "      <td>14.022500</td>\n",
       "    </tr>\n",
       "    <tr>\n",
       "      <th>std</th>\n",
       "      <td>57.879185</td>\n",
       "      <td>85.854236</td>\n",
       "      <td>14.846809</td>\n",
       "      <td>5.217457</td>\n",
       "    </tr>\n",
       "    <tr>\n",
       "      <th>min</th>\n",
       "      <td>1.000000</td>\n",
       "      <td>0.700000</td>\n",
       "      <td>0.000000</td>\n",
       "      <td>1.600000</td>\n",
       "    </tr>\n",
       "    <tr>\n",
       "      <th>25%</th>\n",
       "      <td>50.750000</td>\n",
       "      <td>74.375000</td>\n",
       "      <td>9.975000</td>\n",
       "      <td>10.375000</td>\n",
       "    </tr>\n",
       "    <tr>\n",
       "      <th>50%</th>\n",
       "      <td>100.500000</td>\n",
       "      <td>149.750000</td>\n",
       "      <td>22.900000</td>\n",
       "      <td>12.900000</td>\n",
       "    </tr>\n",
       "    <tr>\n",
       "      <th>75%</th>\n",
       "      <td>150.250000</td>\n",
       "      <td>218.825000</td>\n",
       "      <td>36.525000</td>\n",
       "      <td>17.400000</td>\n",
       "    </tr>\n",
       "    <tr>\n",
       "      <th>max</th>\n",
       "      <td>200.000000</td>\n",
       "      <td>296.400000</td>\n",
       "      <td>49.600000</td>\n",
       "      <td>27.000000</td>\n",
       "    </tr>\n",
       "  </tbody>\n",
       "</table>\n",
       "</div>"
      ],
      "text/plain": [
       "       Unnamed: 0          TV       Radio       Sales\n",
       "count  200.000000  200.000000  200.000000  200.000000\n",
       "mean   100.500000  147.042500   23.264000   14.022500\n",
       "std     57.879185   85.854236   14.846809    5.217457\n",
       "min      1.000000    0.700000    0.000000    1.600000\n",
       "25%     50.750000   74.375000    9.975000   10.375000\n",
       "50%    100.500000  149.750000   22.900000   12.900000\n",
       "75%    150.250000  218.825000   36.525000   17.400000\n",
       "max    200.000000  296.400000   49.600000   27.000000"
      ]
     },
     "execution_count": 9,
     "metadata": {},
     "output_type": "execute_result"
    }
   ],
   "source": [
    "# View descriptive statistics\n",
    "\n",
    "df.describe()\n"
   ]
  },
  {
   "cell_type": "markdown",
   "metadata": {
    "id": "meVY1pwgViW9"
   },
   "source": [
    "## Independent and Dependent Variables\n",
    "\n",
    "\n",
    "### Independent variable\n",
    "\n",
    "Independent variable is also called Input variable and is denoted by X. In practical applications, independent variable is also called Feature variable or Predictor variable. We can denote it as:-\n",
    "\n",
    "Independent or Input variable (X) = Feature variable = Predictor variable \n",
    "\n",
    "\n",
    "### Dependent variable\n",
    "\n",
    "Dependent variable is also called Output variable and is denoted by y. \n",
    "\n",
    "Dependent variable is also called Target variable or Response variable. It can be denoted it as follows:-\n",
    "\n",
    "Dependent or Output variable (y) = Target variable = Response variable\n"
   ]
  },
  {
   "cell_type": "markdown",
   "metadata": {
    "id": "owF8SDFlGA_l"
   },
   "source": [
    "## **`Video 2 : Linear Regression-Splitting and describing dataframe`**"
   ]
  },
  {
   "cell_type": "markdown",
   "metadata": {
    "id": "1YEoPewvViW9"
   },
   "source": [
    "<p style='text-align: right;'> 2 points</p>\n"
   ]
  },
  {
   "cell_type": "code",
   "execution_count": 10,
   "metadata": {
    "id": "w1_4DnJcViW9"
   },
   "outputs": [],
   "source": [
    "# Declare feature variable and target variable\n",
    "\n",
    "# TV and Sales data values are given by X and y respectively.\n",
    "\n",
    "# Values attribute of pandas dataframe returns the numpy arrays.\n",
    "\n",
    "X = df[[\"TV\"]].values\n",
    "\n",
    "y = df[[\"Sales\"]].values\n"
   ]
  },
  {
   "cell_type": "markdown",
   "metadata": {
    "id": "SGRNYGKAViW9"
   },
   "source": [
    "## Visual exploratory data analysis\n",
    "\n",
    "Visualize the relationship between X and y by plotting a scatterplot between X and y.\n"
   ]
  },
  {
   "cell_type": "markdown",
   "metadata": {
    "id": "MCa0fgaMGScg"
   },
   "source": [
    "## **`Video 3: Linear Regression-EDA on dataset`**"
   ]
  },
  {
   "cell_type": "markdown",
   "metadata": {
    "id": "NkVHLOyqViW9"
   },
   "source": [
    "<p style='text-align: right;'> 2 points</p>\n"
   ]
  },
  {
   "cell_type": "code",
   "execution_count": 11,
   "metadata": {
    "id": "ZiV-1Qb7ViW9",
    "outputId": "cdaf6acf-ab35-4520-ec7e-40ae29303566"
   },
   "outputs": [
    {
     "data": {
      "image/png": "[encoded data removed]",
      "text/plain": [
       "<Figure size 1000x700 with 1 Axes>"
      ]
     },
     "metadata": {},
     "output_type": "display_data"
    }
   ],
   "source": [
    "# Plot scatter plot between X and y\n",
    "plt.figure(figsize=(10,7))\n",
    "plt.scatter(X,y)\n",
    "plt.ylabel(\"Sales\")\n",
    "plt.xlabel(\"TV\")\n",
    "plt.title(\"Relationship beetween TV and Sales\")\n",
    "\n",
    "plt.show()\n"
   ]
  },
  {
   "cell_type": "markdown",
   "metadata": {
    "id": "IWBAct0bViW-"
   },
   "source": [
    "Hey buddy! did you notice ? the above graph shows some sort of relationship between sales and TV. Don't you think this shows positive linear relation? i.e when As TV's value increases sales increases ans same is vise-versa."
   ]
  },
  {
   "cell_type": "markdown",
   "metadata": {
    "id": "RnhxaHdMViW-"
   },
   "source": [
    "# Visualising Data Using Seaborn\n"
   ]
  },
  {
   "cell_type": "markdown",
   "metadata": {
    "id": "aLndJy8rGhAw"
   },
   "source": [
    "## **`Video 4 : Linear Regression-Reshaping concept`**\n",
    "\n"
   ]
  },
  {
   "cell_type": "markdown",
   "metadata": {
    "id": "7J-Sac_tViW-"
   },
   "source": [
    "<p style='text-align: right;'> 2*2=4 points</p>\n"
   ]
  },
  {
   "cell_type": "code",
   "execution_count": 12,
   "metadata": {
    "id": "7_IM7vFFViW-"
   },
   "outputs": [],
   "source": [
    "# import seaborn with alias sns\n",
    "import seaborn as sns\n",
    "\n",
    "\n",
    "\n",
    "# import %matplotlib inline to visualise in the notebook\n",
    "%matplotlib inline"
   ]
  },
  {
   "cell_type": "code",
   "execution_count": 13,
   "metadata": {
    "id": "hH-0mrKxViW-",
    "outputId": "c3a91d8d-e57f-40f7-9892-a91471f7c91d"
   },
   "outputs": [
    {
     "data": {
      "image/png": "[encoded data removed]",
      "text/plain": [
       "<Figure size 1000x700 with 1 Axes>"
      ]
     },
     "metadata": {},
     "output_type": "display_data"
    },
    {
     "data": {
      "text/plain": [
       "<seaborn.axisgrid.PairGrid at 0x154b9133290>"
      ]
     },
     "execution_count": 13,
     "metadata": {},
     "output_type": "execute_result"
    },
    {
     "data": {
      "image/png": "[encoded data removed]",
      "text/plain": [
       "<Figure size 1000x1000 with 20 Axes>"
      ]
     },
     "metadata": {},
     "output_type": "display_data"
    }
   ],
   "source": [
    "# Visualise the relationship between the features and the response using scatterplots\n",
    "# Plot scatter plot between X and y\n",
    "plt.figure(figsize=(10,7))\n",
    "plt.scatter(X,y)\n",
    "plt.ylabel(\"Sales\")\n",
    "plt.xlabel(\"TV\")\n",
    "plt.title(\"Relationship beetween TV and Sales\")\n",
    "\n",
    "plt.show()\n",
    "\n",
    "\n",
    "\n",
    "\n",
    "\n",
    "# plot a pairplot also for df\n",
    "sns.pairplot(df)\n",
    "\n",
    "\n"
   ]
  },
  {
   "cell_type": "markdown",
   "metadata": {
    "id": "XtaA6-KiViW_"
   },
   "source": [
    "Ohoo! We can see very well that you have done good practice of Visualisation in your EDA assignment. Anyways the above graph also shows positive linear relation between both TV and Sales."
   ]
  },
  {
   "cell_type": "markdown",
   "metadata": {
    "id": "2Gmu97TtViW_"
   },
   "source": [
    "## Checking dimensions of X and y\n",
    "\n",
    "We need to check the dimensions of X and y to make sure they are in right format for Scikit-Learn API. \n"
   ]
  },
  {
   "cell_type": "markdown",
   "metadata": {
    "id": "5_Jqe2mHViW_"
   },
   "source": [
    "<p style='text-align: right;'> 2points</p>\n"
   ]
  },
  {
   "cell_type": "code",
   "execution_count": 14,
   "metadata": {
    "id": "8riwVY8QViW_",
    "outputId": "49bbcf98-2101-440a-8ff9-2db1c9aa1017"
   },
   "outputs": [
    {
     "name": "stdout",
     "output_type": "stream",
     "text": [
      "(200, 1)\n",
      "(200, 1)\n"
     ]
    }
   ],
   "source": [
    "# Print the dimensions of X and y\n",
    "print(X.shape)\n",
    "print(y.shape)\n",
    "\n"
   ]
  },
  {
   "cell_type": "markdown",
   "metadata": {
    "id": "tXrUsFRBViW_"
   },
   "source": [
    "## Reshaping X and y\n",
    "\n",
    "Since we are working with only one feature variable, so we need to reshape using Numpy reshape() method.\n",
    "\n",
    "E.g, If you have an array of shape (3,2) then reshaping it with (-1, 1), then the array will get reshaped in such a way that the resulting array has only 1 column and this is only possible by having 6 rows, hence, (6,1)\n",
    "\n",
    "You have seen the above example. Now you smarty! try reshaping on your data."
   ]
  },
  {
   "cell_type": "markdown",
   "metadata": {
    "id": "pL_AUZJ-ViW_"
   },
   "source": [
    "<p style='text-align: right;'> 2*2 = 4 points</p>\n"
   ]
  },
  {
   "cell_type": "code",
   "execution_count": 15,
   "metadata": {
    "id": "WheKXGzrViW_"
   },
   "outputs": [],
   "source": [
    "# Reshape X and y\n",
    "\n",
    "X = df['TV'].values.reshape(-1, 1)\n",
    "\n",
    "y = df['Sales'].values.reshape(-1, 1)\n",
    "\n"
   ]
  },
  {
   "cell_type": "code",
   "execution_count": 16,
   "metadata": {
    "id": "_xtPKCMIViXA",
    "outputId": "fd83704e-b442-4834-ed3e-8712d2667c05"
   },
   "outputs": [
    {
     "name": "stdout",
     "output_type": "stream",
     "text": [
      "(200, 1)\n",
      "(200, 1)\n"
     ]
    }
   ],
   "source": [
    "# Print the dimensions of X and y after reshaping\n",
    "\n",
    "print(X.shape)\n",
    "print(y.shape)\n"
   ]
  },
  {
   "cell_type": "markdown",
   "metadata": {
    "id": "3KQvcvkXViXA"
   },
   "source": [
    "Cool right!\n",
    "\n",
    "## Difference in dimensions of X and y after reshaping\n",
    "\n",
    "\n",
    "Hey! You can see the difference in diminsions of X and y before and after reshaping.\n",
    "\n",
    "It is essential in this case because getting the feature and target variable right is an important precursor to model building."
   ]
  },
  {
   "cell_type": "markdown",
   "metadata": {
    "id": "uuF-FxqfViXA"
   },
   "source": [
    "# Performing Simple Linear Regression"
   ]
  },
  {
   "cell_type": "markdown",
   "metadata": {
    "id": "w_C_F0WRViXA"
   },
   "source": [
    "Equation of linear regression<br>\n",
    "$y = c + m_1x_1 + m_2x_2 + ... + m_nx_n$\n",
    "\n",
    "-  $y$ is the response\n",
    "-  $c$ is the intercept\n",
    "-  $m_1$ is the coefficient for the first feature\n",
    "-  $m_n$ is the coefficient for the nth feature<br>\n",
    "\n",
    "In our case:\n",
    "\n",
    "$y = c + m_1 \\times TV$\n",
    "\n",
    "The $m$ values are called the model **coefficients** or **model parameters**.\n"
   ]
  },
  {
   "cell_type": "markdown",
   "metadata": {
    "id": "efpuSayqG2Qc"
   },
   "source": [
    "## **`Video 5 : Linear Regression-Fitting The Regression Model`**\n",
    "\n",
    "---\n",
    "\n",
    "\n",
    "\n"
   ]
  },
  {
   "cell_type": "markdown",
   "metadata": {
    "id": "CnvzEutyViXA"
   },
   "source": [
    "## Mechanics of the model\n",
    "\n",
    "Hey! before you read further, it is good to understand the generic structure of modeling using the scikit-learn library. Broadly, the steps to build any model can be divided as follows: \n",
    "\n",
    "Split the dataset into two sets – the training set and the test set. Then, instantiate the regressor lm and fit it on the training set with the fit method. \n",
    "\n",
    "In this step, the model learned the relationships between the training data (X_train, y_train). \n",
    "\n",
    "Oh Yeah! Now the model is ready to make predictions on the test data (X_test). Hence, predict on the test data using the predict method. \n"
   ]
  },
  {
   "cell_type": "markdown",
   "metadata": {
    "id": "mrqLfObFViXA"
   },
   "source": [
    "The steps are as follow:"
   ]
  },
  {
   "cell_type": "markdown",
   "metadata": {
    "id": "LnXw8ARCViXA"
   },
   "source": [
    "## Train test split\n",
    "\n",
    "\n",
    "Split the dataset into two sets namely - train set and test set.\n",
    "\n",
    "The model learn the relationships from the training data and predict on test data.\n"
   ]
  },
  {
   "cell_type": "markdown",
   "metadata": {
    "id": "4ehmxCKKViXA"
   },
   "source": [
    "Hey Smarty!! It's absolutely fine if you didn't understand the theory well! We are here to help you make comfortable with all the concepts slowly as we proceeds towards our upcoming assignments.\n",
    "\n",
    "No fear when AI_4_All is here :)\n",
    "\n",
    "<p style='text-align: right;'> 2+2+3=7 points</p>\n"
   ]
  },
  {
   "cell_type": "code",
   "execution_count": 17,
   "metadata": {
    "id": "yPVJAcFOViXA"
   },
   "outputs": [],
   "source": [
    "# import train test split\n",
    "from sklearn.model_selection import train_test_split\n",
    "\n",
    "\n",
    "# Split X and y into training and test data sets\n",
    "\n",
    "\n",
    "X_train,X_test,y_train,y_test = train_test_split(X,y,test_size=0.3,random_state=24)\n",
    "\n"
   ]
  },
  {
   "cell_type": "code",
   "execution_count": 18,
   "metadata": {
    "id": "w2nhKaLWViXB",
    "outputId": "76913542-2644-4b18-d630-4f8a5b8f129e"
   },
   "outputs": [
    {
     "name": "stdout",
     "output_type": "stream",
     "text": [
      "(140, 1)\n",
      "(140, 1)\n",
      "(60, 1)\n",
      "(60, 1)\n"
     ]
    }
   ],
   "source": [
    "# print shapes of X_train,y_train, X_test, y_test\n",
    "print(X_train.shape)\n",
    "print(y_train.shape)\n",
    "print(X_test.shape)\n",
    "print(y_test.shape)\n",
    "\n",
    "\n"
   ]
  },
  {
   "cell_type": "code",
   "execution_count": 19,
   "metadata": {
    "id": "Km9tuIFLViXB"
   },
   "outputs": [],
   "source": [
    "# Fit the linear model\n",
    "from sklearn.linear_model import LinearRegression\n",
    "# Instantiate the linear regression object lm\n",
    "\n",
    "lm = LinearRegression()\n",
    "\n",
    "\n",
    "# Train the model using training data sets\n",
    "lm.fit(X_train,y_train)\n",
    "\n",
    "\n",
    "\n",
    "\n",
    "# Predict on the test data\n",
    "y_pred =lm.predict(X_test)"
   ]
  },
  {
   "cell_type": "markdown",
   "metadata": {
    "id": "xA82agVwViXB"
   },
   "source": [
    "## Model slope and intercept term\n",
    "\n",
    "The model slope is given by lm.coef_ and model intercept term is given by lm.intercept_. \n",
    "\n",
    "for example. if the estimated model slope and intercept values are 1.60509347 and  -11.16003616.\n",
    "\n",
    "So, the equation of the fitted regression line will be:-\n",
    "\n",
    "y = 1.60509347 * x - 11.16003616  \n",
    "\n"
   ]
  },
  {
   "cell_type": "markdown",
   "metadata": {
    "id": "oKqZ8aTeViXB"
   },
   "source": [
    "<p style='text-align: right;'> 2 points</p>\n"
   ]
  },
  {
   "cell_type": "code",
   "execution_count": 20,
   "metadata": {},
   "outputs": [
    {
     "name": "stdout",
     "output_type": "stream",
     "text": [
      "[[0.04798881]]\n",
      "(array([7.00055155]),)\n"
     ]
    }
   ],
   "source": [
    "# Compute model slope and intercept\n",
    "\n",
    "a = lm.coef_\n",
    "b = lm.intercept_,\n",
    "\n",
    "# also print a and b\n",
    "print(a)\n",
    "print(b)"
   ]
  },
  {
   "cell_type": "code",
   "execution_count": 35,
   "metadata": {
    "id": "6fid2NyyViXB"
   },
   "outputs": [],
   "source": [
    "# So comment below, our fitted regression line here is ?\n",
    "\n",
    "#y=0.04798881 * x + 7.00055155\n",
    "\n",
    "# That is our linear model."
   ]
  },
  {
   "cell_type": "markdown",
   "metadata": {
    "id": "bZxiK72hViXC"
   },
   "source": [
    "Wohoo! Awesome job done! \n",
    "\n",
    "## Making predictions\n",
    "\n",
    "\n",
    "To make prediction, on an individual TV value, \n",
    "\n",
    "\n",
    "\t\tlm.predict(Xi)\n",
    "        \n",
    "\n",
    "where Xi is the TV data value of the ith observation.\n",
    "\n"
   ]
  },
  {
   "cell_type": "markdown",
   "metadata": {
    "id": "jq0gQ9b9ViXC"
   },
   "source": [
    "<p style='text-align: right;'> 2 points</p>\n"
   ]
  },
  {
   "cell_type": "code",
   "execution_count": 21,
   "metadata": {
    "id": "IiEarTpBViXC",
    "outputId": "7f3c24e7-39fb-4b46-dc28-a2f15d37be1d"
   },
   "outputs": [
    {
     "name": "stdout",
     "output_type": "stream",
     "text": [
      "(array([[18.04277673],\n",
      "       [ 9.13605359],\n",
      "       [ 7.82595908],\n",
      "       [14.27085626],\n",
      "       [15.6769284 ]]))\n"
     ]
    }
   ],
   "source": [
    "# Predicting Sales values on first five 5 TV  datasets only\n",
    "# Step 1: Select the first 5 TV values\n",
    "tv_first5 = df['TV'].iloc[:5]\n",
    "slope=0.04798881\n",
    "intercept=7.00055155\n",
    "# Step 2: Predict Sales using the formula y = slope * x + intercept\n",
    "predicted_sales = slope * tv_first5 + intercept\n",
    "predicted_sales_array = predicted_sales.to_numpy().reshape(-1, 1)\n",
    "\n",
    "# Format output\n",
    "np.set_printoptions(precision=8, suppress=True)\n",
    "print(f\"({repr(predicted_sales_array)})\")\n",
    "\n",
    "\n",
    "\n",
    "\n",
    "\n"
   ]
  },
  {
   "cell_type": "markdown",
   "metadata": {
    "id": "5V4hakZqViXC"
   },
   "source": [
    "We know that you can also do prediction for all values of TV available in our dataset\n",
    "\n",
    "Can you show it now?\n",
    "\n"
   ]
  },
  {
   "cell_type": "code",
   "execution_count": 25,
   "metadata": {
    "id": "HONm83d7ViXC",
    "outputId": "f5f3d924-498e-4328-a6c5-2fb0ec5fe521"
   },
   "outputs": [
    {
     "name": "stdout",
     "output_type": "stream",
     "text": [
      "array(array([[18.04277673],\n",
      "       [ 9.13605359],\n",
      "       [ 7.82595908],\n",
      "       [14.27085626],\n",
      "       [15.6769284 ],\n",
      "       [ 7.4180542 ],\n",
      "       [ 9.75990812],\n",
      "       [12.76880651],\n",
      "       [ 7.41325532],\n",
      "       [16.58871579],\n",
      "       [10.17261189],\n",
      "       [17.30374906],\n",
      "       [ 8.14268523],\n",
      "       [11.67946052],\n",
      "       [16.79506767],\n",
      "       [16.37756502],\n",
      "       [10.25419287],\n",
      "       [20.50460268],\n",
      "       [10.3213772 ],\n",
      "       [14.06930326],\n",
      "       [17.48130765],\n",
      "       [18.39309504],\n",
      "       [ 7.63400384],\n",
      "       [17.95639687],\n",
      "       [ 9.99025441],\n",
      "       [19.6168097 ],\n",
      "       [13.8581525 ],\n",
      "       [18.52266483],\n",
      "       [18.94016748],\n",
      "       [10.38856154],\n",
      "       [21.056474  ],\n",
      "       [12.4184882 ],\n",
      "       [11.66506388],\n",
      "       [19.74637949],\n",
      "       [11.59308067],\n",
      "       [20.95089862],\n",
      "       [19.80876494],\n",
      "       [10.58531566],\n",
      "       [ 9.06886926],\n",
      "       [17.94200023],\n",
      "       [16.71828557],\n",
      "       [15.49457092],\n",
      "       [21.09006617],\n",
      "       [16.92943634],\n",
      "       [ 8.20507068],\n",
      "       [15.40339218],\n",
      "       [11.30514781],\n",
      "       [18.51306707],\n",
      "       [17.90360918],\n",
      "       [10.21100294],\n",
      "       [16.58871579],\n",
      "       [11.81862807],\n",
      "       [17.38533003],\n",
      "       [15.76330826],\n",
      "       [19.60721194],\n",
      "       [16.54552586],\n",
      "       [ 7.35086986],\n",
      "       [13.53662747],\n",
      "       [17.1165927 ],\n",
      "       [17.11179382],\n",
      "       [ 9.56795289],\n",
      "       [19.5400276 ],\n",
      "       [18.48427378],\n",
      "       [11.92900234],\n",
      "       [13.29188454],\n",
      "       [10.31177944],\n",
      "       [ 8.51219907],\n",
      "       [13.68539278],\n",
      "       [18.39309504],\n",
      "       [17.40452556],\n",
      "       [16.55512362],\n",
      "       [12.26972289],\n",
      "       [ 8.28665166],\n",
      "       [13.21030356],\n",
      "       [17.2413636 ],\n",
      "       [ 7.81156244],\n",
      "       [ 8.32024383],\n",
      "       [12.78320315],\n",
      "       [ 7.25969112],\n",
      "       [12.56725351],\n",
      "       [10.66689663],\n",
      "       [18.50826819],\n",
      "       [10.61410894],\n",
      "       [10.28298615],\n",
      "       [17.24616248],\n",
      "       [16.27198964],\n",
      "       [10.66209775],\n",
      "       [12.31291282],\n",
      "       [11.23796347],\n",
      "       [12.26972289],\n",
      "       [13.44544873],\n",
      "       [ 8.37303152],\n",
      "       [17.44771549],\n",
      "       [19.04094398],\n",
      "       [12.15454974],\n",
      "       [14.83712422],\n",
      "       [16.48314041],\n",
      "       [15.87368252],\n",
      "       [20.90290981],\n",
      "       [13.48863866],\n",
      "       [17.67326289],\n",
      "       [21.22443483],\n",
      "       [20.44701611],\n",
      "       [16.01764895],\n",
      "       [18.43148609],\n",
      "       [13.61820845],\n",
      "       [ 8.2002718 ],\n",
      "       [11.33873997],\n",
      "       [ 7.62920496],\n",
      "       [19.25689362],\n",
      "       [17.83642485],\n",
      "       [18.59944693],\n",
      "       [15.43218547],\n",
      "       [17.05900613],\n",
      "       [10.75327649],\n",
      "       [10.60451118],\n",
      "       [13.6805939 ],\n",
      "       [10.66689663],\n",
      "       [13.03274497],\n",
      "       [ 7.93153446],\n",
      "       [13.7813704 ],\n",
      "       [ 7.90274118],\n",
      "       [17.75004499],\n",
      "       [12.90797406],\n",
      "       [18.01398345],\n",
      "       [11.18517578],\n",
      "       [ 7.37486427],\n",
      "       [10.84925411],\n",
      "       [17.57248639],\n",
      "       [ 9.86068463],\n",
      "       [ 7.03414372],\n",
      "       [19.72718396],\n",
      "       [ 7.40365755],\n",
      "       [17.54849199],\n",
      "       [ 8.77133864],\n",
      "       [ 9.31841107],\n",
      "       [ 8.22906509],\n",
      "       [20.13508885],\n",
      "       [ 9.06407038],\n",
      "       [15.87368252],\n",
      "       [10.5229302 ],\n",
      "       [16.29598405],\n",
      "       [17.58208416],\n",
      "       [12.02018108],\n",
      "       [11.61707507],\n",
      "       [13.73338159],\n",
      "       [18.52266483],\n",
      "       [18.67143014],\n",
      "       [ 8.82412633],\n",
      "       [ 9.14565136],\n",
      "       [20.47101052],\n",
      "       [12.80719756],\n",
      "       [16.48314041],\n",
      "       [15.2210347 ],\n",
      "       [16.01285007],\n",
      "       [ 7.19730567],\n",
      "       [11.50670081],\n",
      "       [14.18927529],\n",
      "       [ 7.56202063],\n",
      "       [13.32067783],\n",
      "       [15.27862127],\n",
      "       [11.11319257],\n",
      "       [16.04164335],\n",
      "       [14.84672199],\n",
      "       [12.62484008],\n",
      "       [18.25392749],\n",
      "       [ 7.85955125],\n",
      "       [16.92463746],\n",
      "       [17.33734122],\n",
      "       [20.64377023],\n",
      "       [ 9.39999205],\n",
      "       [14.89471079],\n",
      "       [ 7.94113223],\n",
      "       [15.08186715],\n",
      "       [17.67326289],\n",
      "       [20.28865304],\n",
      "       [18.92097195],\n",
      "       [15.16824701],\n",
      "       [20.27905528],\n",
      "       [14.94749849],\n",
      "       [14.5155992 ],\n",
      "       [17.48610654],\n",
      "       [ 9.69752267],\n",
      "       [20.80213331],\n",
      "       [19.18011153],\n",
      "       [16.8382576 ],\n",
      "       [13.69499054],\n",
      "       [16.17121314],\n",
      "       [20.72535121],\n",
      "       [ 7.8979423 ],\n",
      "       [ 8.89610954],\n",
      "       [10.62370671],\n",
      "       [ 7.82595908],\n",
      "       [15.00508506],\n",
      "       [14.18447641],\n",
      "       [ 8.83372409],\n",
      "       [11.52109745],\n",
      "       [15.49457092],\n",
      "       [20.61017807],\n",
      "       [18.13875435]]))\n"
     ]
    }
   ],
   "source": [
    "# prediction for all X present in the dataset\n",
    "slope=0.04798881\n",
    "intercept=7.00055155\n",
    "# Predict Sales using formula\n",
    "predicted_sales = slope * X + intercept\n",
    "predicted_sales_array = predicted_sales.reshape(-1, 1)\n",
    "\n",
    "# Format output\n",
    "np.set_printoptions(precision=8, suppress=True)\n",
    "print(f\"array({repr(predicted_sales_array)})\")\n",
    "\n",
    "\n",
    "\n"
   ]
  },
  {
   "cell_type": "markdown",
   "metadata": {
    "id": "6dG0DsqiViXD"
   },
   "source": [
    "## Regression metrics for model performance\n",
    "\n",
    "\n",
    "Now, it is the time to evaluate model performance. \n",
    "\n",
    "For regression problems, there are two ways to compute the model performance. They are RMSE (Root Mean Square Error) and R-Squared Value. These are explained below:-  \n",
    "\n",
    "\n",
    "### RMSE\n",
    "\n",
    "    RMSE is the standard deviation of the residuals. So, RMSE gives us the standard deviation of the unexplained variance by the model. It can be calculated by taking square root of Mean Squared Error.\n",
    "    RMSE is an absolute measure of fit. It gives us how spread the residuals are, given by the standard deviation of the residuals. The more concentrated the data is around the regression line, the lower the residuals and hence lower the standard deviation of residuals. It results in lower values of RMSE. So, lower values of RMSE indicate better fit of data. \n",
    "\n",
    "Formula:\n",
    "![image.png](attachment:image.png)\n",
    "\n"
   ]
  },
  {
   "cell_type": "markdown",
   "metadata": {
    "id": "teJoZOHHViXD"
   },
   "source": [
    "### R-Squared\n",
    "\n",
    "    (R2) Correlation explains the strength of the relationship between an independent and dependent variable,whereas R-square explains to what extent the variance of one variable explains the variance of the second variable. Hence It may also be known as the coefficient of determination.\n",
    "    So, if the R2 of a model is 0.50, then approximately half of the observed variation can be explained by the model's inputs.\n",
    "    In general, the higher the R2 Score value, the better the model fits the data. Usually, its value ranges from 0 to 1. So, we want its value to be as close to 1. Its value can become negative if our model is wrong.\n",
    "\n",
    "Fomula:\n",
    "\n",
    "![image.png](attachment:image.png)"
   ]
  },
  {
   "cell_type": "markdown",
   "metadata": {
    "id": "GsFyvOu1ViXD"
   },
   "source": [
    "<p style='text-align: right;'> 2*2 = 4 points</p>\n"
   ]
  },
  {
   "cell_type": "markdown",
   "metadata": {
    "id": "ZtR0V0wMViXD"
   },
   "source": [
    "\n",
    "\n",
    "Read this blog for metrics in regression: https://machinelearningmastery.com/regression-metrics-for-machine-learning/"
   ]
  },
  {
   "cell_type": "markdown",
   "metadata": {
    "id": "ZafE3djtHEdf"
   },
   "source": [
    "## **`Video 6 : Linear Regression-Metrics In Regression`**\n",
    "\n",
    "---\n",
    "\n",
    "\n",
    "\n"
   ]
  },
  {
   "cell_type": "code",
   "execution_count": 27,
   "metadata": {
    "id": "arDMTcUrViXE",
    "outputId": "02862205-edbc-4373-945a-49006b56c329"
   },
   "outputs": [
    {
     "name": "stdout",
     "output_type": "stream",
     "text": [
      "3.030445769528184\n"
     ]
    }
   ],
   "source": [
    "# Calculate and print Root Mean Square Error(RMSE)\n",
    "from sklearn.metrics import mean_squared_error\n",
    "mse=mean_squared_error(y_test,y_pred)\n",
    "rmse=np.sqrt(mse)\n",
    "print(format(rmse))\n",
    "\n",
    "\n"
   ]
  },
  {
   "cell_type": "code",
   "execution_count": 29,
   "metadata": {
    "id": "j-gxwwxcViXE",
    "outputId": "fcbe282d-7438-4399-a827-36e5a624dd94"
   },
   "outputs": [
    {
     "name": "stdout",
     "output_type": "stream",
     "text": [
      "R2 score value:0.630121\n"
     ]
    }
   ],
   "source": [
    "# Calculate and print r2_score\n",
    "from sklearn.metrics import r2_score\n",
    "\n",
    "print(\"R2 score value:{:4f}\".format(r2_score(y_test,y_pred)))\n",
    "\n",
    "\n",
    "\n"
   ]
  },
  {
   "cell_type": "markdown",
   "metadata": {
    "id": "f3vgqcuBViXE"
   },
   "source": [
    "## Interpretation and Conclusion\n",
    "\n",
    "\n",
    "The RMSE value has been found to be  2.2759. It means the standard deviation for our prediction is  2.2759. which is quite less. Sometimes we can also expect the RMSE to be less than  2.2759. So, the model is good fit to the data. \n",
    "\n",
    "\n",
    "In business decisions, the benchmark for the R2 score value is 0.7. It means if R2 score value >= 0.7, then the model is good enough to deploy on unseen data whereas if R2 score value < 0.7, then the model is not good enough to deploy. Our R2 score value has been found to be  0.8149. It means that this model explains  81.49 % of the variance in our dependent variable. So, the R2 score value confirms that the model is good enough to deploy because it provides good fit to the data.\n",
    "\n",
    "Wohoo! Really good job done!"
   ]
  },
  {
   "cell_type": "markdown",
   "metadata": {
    "id": "dfUt55lCViXE"
   },
   "source": [
    "<p style='text-align: right;'> 2 points</p>\n"
   ]
  },
  {
   "cell_type": "code",
   "execution_count": 33,
   "metadata": {
    "id": "ngPS8MFvViXE",
    "outputId": "ec1b21eb-16b2-4df2-81b8-66c49cd3d9c2"
   },
   "outputs": [
    {
     "data": {
      "image/png": "[encoded data removed]",
      "text/plain": [
       "<Figure size 800x500 with 1 Axes>"
      ]
     },
     "metadata": {},
     "output_type": "display_data"
    }
   ],
   "source": [
    "# Plot the Regression Line between X and Y as shown in below output.\n",
    "plt.figure(figsize=(8, 5))\n",
    "plt.scatter(X_test, y_test, color='blue', label='Actual Sales')\n",
    "plt.plot(X_test, y_pred, color='red', linewidth=2, label='Regression Line')\n",
    "plt.xlabel(\"TV Advertising Budget\")\n",
    "plt.ylabel(\"Sales\")\n",
    "plt.title(\"Regression Line: TV vs Sales\")\n",
    "plt.legend()\n",
    "plt.grid(True)\n",
    "plt.show()\n",
    "\n",
    "\n",
    "\n",
    "\n"
   ]
  },
  {
   "cell_type": "markdown",
   "metadata": {
    "id": "RD0vbNjQViXE"
   },
   "source": [
    "As you can see above, the regression line fits the data quite well. Wow!"
   ]
  },
  {
   "cell_type": "markdown",
   "metadata": {
    "id": "y4LWJcMlViXE"
   },
   "source": [
    "## Residual analysis\n",
    "\n",
    "\n",
    "\n",
    "A linear regression model may not represent the data appropriately. The model may be a poor fit to the data. So, we should validate our model by defining and examining residual plots.\n",
    "\n",
    "The difference between the observed value of the dependent variable (y) and the predicted value (ŷi) is called the residual and is denoted by e or error. The scatter-plot of these residuals is called residual plot.\n",
    "\n",
    "If the data points in a residual plot are randomly dispersed around horizontal axis and an approximate zero residual mean, a linear regression model may be appropriate for the data. Otherwise a non-linear model may be more appropriate.\n",
    "\n",
    "If we take a look at the generated ‘Residual errors’ plot, we can clearly see that the train data plot pattern is non-random. Same is the case with the test data plot pattern.\n",
    "So, it suggests a better-fit for a non-linear model. \n",
    "\n"
   ]
  },
  {
   "cell_type": "markdown",
   "metadata": {
    "id": "9dZRXYNqViXF"
   },
   "source": [
    "\n",
    "Check this blog for residual analysis: https://towardsdatascience.com/how-to-use-residual-plots-for-regression-model-validation-c3c70e8ab378#:~:text=Residuals,and%20the%20observed%20actual%20value."
   ]
  },
  {
   "cell_type": "markdown",
   "metadata": {
    "id": "rj_7H6g9HUzo"
   },
   "source": [
    "## **`Video 7 : Linear Regression-Residual Errors`**\n",
    "\n",
    "\n",
    "---\n",
    "\n",
    "\n",
    "\n"
   ]
  },
  {
   "cell_type": "code",
   "execution_count": 34,
   "metadata": {
    "id": "zdS6e285ViXF",
    "outputId": "ad578fbe-ff0d-42a3-b8b2-d9aadc212c9f"
   },
   "outputs": [
    {
     "data": {
      "text/plain": [
       "Text(0.5, 1.0, 'Residual error')"
      ]
     },
     "execution_count": 34,
     "metadata": {},
     "output_type": "execute_result"
    },
    {
     "data": {
      "image/png": "[encoded data removed]",
      "text/plain": [
       "<Figure size 640x480 with 1 Axes>"
      ]
     },
     "metadata": {},
     "output_type": "display_data"
    }
   ],
   "source": [
    "# Plotting residual errors\n",
    "import matplotlib.pyplot as plt\n",
    "plt.scatter(lm.predict(X_train),lm.predict(X_train)-y_train,color='red',label='Train data')\n",
    "plt.scatter(lm.predict(X_test),lm.predict(X_test)-y_test,color='blue',label='Test data')\n",
    "plt.title(\"Residual error\")\n",
    " \n",
    "\n",
    "\n"
   ]
  },
  {
   "cell_type": "markdown",
   "metadata": {
    "id": "5xg7clmDViXF"
   },
   "source": [
    "## Checking for Overfitting and Underfitting\n",
    "\n",
    "\n",
    "We will see training set score and test set score.\n",
    "\n",
    "You can excpect the training set score to be 0.7996, which is averagely good. So, the model learned the relationships quite appropriately from the training data. Thus, the model performs good on the test data as test score will be  0.8149. It is a clear sign of good fit/ balanced fit. Hence, we can validated our finding that the linear regression model provides good fit to the data. \n",
    "\n",
    "\n",
    "**Underfitting**: Your model is underfitting the training data when the model performs poorly on the training data. This is because the model is unable to capture the relationship between the input examples (often called X) and the target values (often called Y). \n",
    "\n",
    "**Overfitting**: Your model is overfitting your training data when you see that the model performs well on the training data but does not perform well on the evaluation data. This is because the model is memorizing the data it has seen and is unable to generalize to unseen examples.\n",
    "\n",
    "You see the difference visually as below:\n",
    "\n",
    "![image.png](attachment:image.png)\n"
   ]
  },
  {
   "cell_type": "markdown",
   "metadata": {
    "id": "cl_zvcq0ViXF"
   },
   "source": [
    "<p style='text-align: right;'> 2 points</p>\n"
   ]
  },
  {
   "cell_type": "code",
   "execution_count": 35,
   "metadata": {
    "id": "kO6xEi0VViXF",
    "outputId": "861a4ad3-9808-4b0a-a172-091f7fa0661d"
   },
   "outputs": [
    {
     "name": "stdout",
     "output_type": "stream",
     "text": [
      "train set score:0.6046\n",
      "test set score:0.6301\n"
     ]
    }
   ],
   "source": [
    "# Checking for Overfitting or Underfitting the data by calculation score using score function.\n",
    "print(\"train set score:{:.4f}\".format(lm.score(X_train,y_train)))\n",
    "print(\"test set score:{:.4f}\".format(lm.score(X_test,y_test)))\n",
    "\n",
    "\n"
   ]
  },
  {
   "cell_type": "markdown",
   "metadata": {
    "id": "F1Hl2aKbWTgS"
   },
   "source": [
    "# **`Summary`**\n",
    "\n",
    "- We learnt assumptions required for linear regression model.\n",
    "- We built linear regression model using sklearn and also got the basic idea of overfitting and underfitting.\n",
    "- We also did residual analysis to cross check one of the linear regression assumption. "
   ]
  },
  {
   "cell_type": "markdown",
   "metadata": {
    "id": "UhT_bcxxViXG"
   },
   "source": [
    "#  Congratulations on building your first machine learning model! Smile please! :)\n"
   ]
  },
  {
   "cell_type": "markdown",
   "metadata": {
    "id": "-fq9SL48ViXG"
   },
   "source": [
    "# FeedBack\n",
    "We hope you’ve enjoyed this course so far. We’re committed to helping you use AIforAll course to\n",
    "its full potential so you can grow with us. And that’s why we need your help in form of a feedback\n",
    "here\n",
    "\n",
    "We appreciate your time for your thoughtful comment here\n",
    "\n",
    "https://forms.gle/AGReqrmyeJ6bFcCf7"
   ]
  }
 ],
 "metadata": {
  "colab": {
   "collapsed_sections": [
    "3KQvcvkXViXA"
   ],
   "provenance": []
  },
  "kernelspec": {
   "display_name": "Python 3 (ipykernel)",
   "language": "python",
   "name": "python3"
  },
  "language_info": {
   "codemirror_mode": {
    "name": "ipython",
    "version": 3
   },
   "file_extension": ".py",
   "mimetype": "text/x-python",
   "name": "python",
   "nbconvert_exporter": "python",
   "pygments_lexer": "ipython3",
   "version": "3.11.4"
  }
 },
 "nbformat": 4,
 "nbformat_minor": 1
}
